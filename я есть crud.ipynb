{
 "cells": [
  {
   "cell_type": "code",
   "execution_count": 1,
   "metadata": {},
   "outputs": [],
   "source": [
    "import mysql.connector"
   ]
  },
  {
   "cell_type": "code",
   "execution_count": 2,
   "metadata": {},
   "outputs": [],
   "source": [
    "with open('password.txt', 'r') as f:\n",
    "    password = f.read()"
   ]
  },
  {
   "cell_type": "markdown",
   "metadata": {},
   "source": [
    "подключаемся"
   ]
  },
  {
   "cell_type": "code",
   "execution_count": 4,
   "metadata": {},
   "outputs": [],
   "source": [
    "con0 = mysql.connector.connect(host='127.0.0.1', port=3306, database='youtube', user='root', password=password)"
   ]
  },
  {
   "cell_type": "code",
   "execution_count": 5,
   "metadata": {},
   "outputs": [],
   "source": [
    "cur0=con0.cursor(dictionary=True)"
   ]
  },
  {
   "cell_type": "markdown",
   "metadata": {},
   "source": [
    "проверяем что всё работает"
   ]
  },
  {
   "cell_type": "code",
   "execution_count": 7,
   "metadata": {},
   "outputs": [],
   "source": [
    "cur0.execute(\"SELECT * FROM channels\")"
   ]
  },
  {
   "cell_type": "code",
   "execution_count": 8,
   "metadata": {},
   "outputs": [],
   "source": [
    "result = cur0.fetchall()"
   ]
  },
  {
   "cell_type": "code",
   "execution_count": 9,
   "metadata": {},
   "outputs": [
    {
     "data": {
      "text/plain": [
       "[{'id_channels': 1,\n",
       "  'channel_name': '- Петькино -',\n",
       "  'subscribers': 187000,\n",
       "  'topic_id': 2,\n",
       "  'blogger_id_channels': 1,\n",
       "  'adv_a': Decimal('0'),\n",
       "  'views': 293590,\n",
       "  'pickle': 'petkino'},\n",
       " {'id_channels': 2,\n",
       "  'channel_name': 'BARAKuda',\n",
       "  'subscribers': 508000,\n",
       "  'topic_id': 1,\n",
       "  'blogger_id_channels': 2,\n",
       "  'adv_a': Decimal('0'),\n",
       "  'views': 797560,\n",
       "  'pickle': 'barakuda'},\n",
       " {'id_channels': 3,\n",
       "  'channel_name': 'varlamov',\n",
       "  'subscribers': 196000000,\n",
       "  'topic_id': 2,\n",
       "  'blogger_id_channels': 3,\n",
       "  'adv_a': Decimal('0'),\n",
       "  'views': 307720000,\n",
       "  'pickle': 'varlamov'}]"
      ]
     },
     "execution_count": 9,
     "metadata": {},
     "output_type": "execute_result"
    }
   ],
   "source": [
    "result"
   ]
  },
  {
   "cell_type": "markdown",
   "metadata": {},
   "source": [
    "# CRUD"
   ]
  },
  {
   "cell_type": "code",
   "execution_count": 10,
   "metadata": {},
   "outputs": [],
   "source": [
    "def my_str(x):\n",
    "    if isinstance(x, str):\n",
    "        x = \"'\" + x + \"'\"\n",
    "    else:\n",
    "        x = str(x)\n",
    "    return x"
   ]
  },
  {
   "cell_type": "code",
   "execution_count": 11,
   "metadata": {},
   "outputs": [],
   "source": [
    "class MyCur:\n",
    "    def __init__(self, con):\n",
    "        self.con = con\n",
    "        self.cur = self.con.cursor(dictionary=True)\n",
    "    \n",
    "    def execute(self, sql_command):\n",
    "        print(sql_command)\n",
    "        try:\n",
    "            self.cur.execute(sql_command)\n",
    "            print('Команда выполнена успешно')\n",
    "        except Exception as error:\n",
    "            print(error)\n",
    "            \n",
    "    def create(self, table, columns=None, values=None):\n",
    "        if columns != None:\n",
    "            columns = ' (' + ', '.join(columns) + ')'\n",
    "        else:\n",
    "            columns = ''\n",
    "        str_values = []\n",
    "        for value in values:\n",
    "            str_values.append(my_str(value))\n",
    "        values = ', '.join(str_values)\n",
    "        sql_command = \"INSERT INTO {table}{columns} VALUES ({values})\".format(table=table, columns=columns, values=values)\n",
    "        self.execute(sql_command)\n",
    "        self.con.commit()\n",
    "        \n",
    "        \n",
    "    def read(self, table, columns='*', where=None):\n",
    "        columns = ', '.join(columns)\n",
    "        if where != None:\n",
    "            where = ' WHERE ' + where\n",
    "        else:\n",
    "            where = ''\n",
    "        sql_command = \"SELECT {columns} FROM {table}{where}\".format(table=table, columns=columns, where=where)\n",
    "        self.execute(sql_command)\n",
    "        data = self.cur.fetchall()\n",
    "        return data\n",
    "    \n",
    "    def update(self, table, columns, values, where):\n",
    "        pairs = []\n",
    "        for i in range(len(columns)):\n",
    "            column = columns[i]\n",
    "            value = my_str(values[i])\n",
    "            pairs.append(column + ' = ' + value)\n",
    "        pairs = ', '.join(pairs)\n",
    "        if where != None:\n",
    "            where = ' WHERE ' + where\n",
    "        sql_command = \"UPDATE {table} SET {pairs}{where}\".format(table=table, pairs=pairs, where=where)\n",
    "        self.execute(sql_command)\n",
    "        self.con.commit()\n",
    "        \n",
    "    def delete(self, table, where=None):\n",
    "        if where != None:\n",
    "            where = ' WHERE ' + where\n",
    "        else:\n",
    "            where = ''\n",
    "        sql_command = \"DELETE FROM {table}{where}\".format(table=table, where=where)\n",
    "        self.execute(sql_command)\n",
    "        self.con.commit()"
   ]
  },
  {
   "cell_type": "code",
   "execution_count": 12,
   "metadata": {},
   "outputs": [],
   "source": [
    "cur = MyCur(con0)"
   ]
  },
  {
   "cell_type": "code",
   "execution_count": 13,
   "metadata": {},
   "outputs": [],
   "source": [
    "#посмотрим как выглядит таблица topics"
   ]
  },
  {
   "cell_type": "code",
   "execution_count": 14,
   "metadata": {},
   "outputs": [
    {
     "name": "stdout",
     "output_type": "stream",
     "text": [
      "SELECT * FROM topics\n",
      "Команда выполнена успешно\n",
      "[{'id_topics': 1, 'topic_name': 'comedy', 'conversion': Decimal('0.010')}, {'id_topics': 2, 'topic_name': 'travel', 'conversion': Decimal('0.050')}]\n"
     ]
    }
   ],
   "source": [
    "print(cur.read('topics'))"
   ]
  },
  {
   "cell_type": "code",
   "execution_count": 15,
   "metadata": {},
   "outputs": [],
   "source": [
    "# и как называются темы, у которых конверсия больше 0,2"
   ]
  },
  {
   "cell_type": "code",
   "execution_count": 16,
   "metadata": {},
   "outputs": [
    {
     "name": "stdout",
     "output_type": "stream",
     "text": [
      "SELECT topic_name FROM topics WHERE conversion > 0.02\n",
      "Команда выполнена успешно\n",
      "[{'topic_name': 'travel'}]\n"
     ]
    }
   ],
   "source": [
    "print(cur.read('topics', columns=['topic_name'], where=\"conversion > 0.02\"))"
   ]
  },
  {
   "cell_type": "code",
   "execution_count": 17,
   "metadata": {},
   "outputs": [],
   "source": [
    "#удалим строку comedy"
   ]
  },
  {
   "cell_type": "code",
   "execution_count": 18,
   "metadata": {},
   "outputs": [
    {
     "name": "stdout",
     "output_type": "stream",
     "text": [
      "DELETE FROM topics WHERE topic_name = 'comedy'\n",
      "Команда выполнена успешно\n"
     ]
    }
   ],
   "source": [
    "cur.delete('topics', where=\"topic_name = 'comedy'\")"
   ]
  },
  {
   "cell_type": "code",
   "execution_count": 19,
   "metadata": {},
   "outputs": [
    {
     "name": "stdout",
     "output_type": "stream",
     "text": [
      "SELECT * FROM topics\n",
      "Команда выполнена успешно\n",
      "[{'id_topics': 2, 'topic_name': 'travel', 'conversion': Decimal('0.050')}]\n"
     ]
    }
   ],
   "source": [
    "print(cur.read('topics'))"
   ]
  },
  {
   "cell_type": "code",
   "execution_count": 20,
   "metadata": {},
   "outputs": [],
   "source": [
    "# вернём назад строку comedy и добавим строку other"
   ]
  },
  {
   "cell_type": "code",
   "execution_count": 21,
   "metadata": {},
   "outputs": [
    {
     "name": "stdout",
     "output_type": "stream",
     "text": [
      "INSERT INTO topics VALUES (1, 'comedy', 0.01)\n",
      "Команда выполнена успешно\n",
      "INSERT INTO topics VALUES (3, 'other', 0.007)\n",
      "Команда выполнена успешно\n"
     ]
    }
   ],
   "source": [
    "cur.create('topics', values = [1, 'comedy', 0.01])\n",
    "cur.create('topics', values = [3, 'other', 0.007])"
   ]
  },
  {
   "cell_type": "code",
   "execution_count": 22,
   "metadata": {},
   "outputs": [
    {
     "name": "stdout",
     "output_type": "stream",
     "text": [
      "SELECT * FROM topics\n",
      "Команда выполнена успешно\n",
      "[{'id_topics': 1, 'topic_name': 'comedy', 'conversion': Decimal('0.010')}, {'id_topics': 2, 'topic_name': 'travel', 'conversion': Decimal('0.050')}, {'id_topics': 3, 'topic_name': 'other', 'conversion': Decimal('0.007')}]\n"
     ]
    }
   ],
   "source": [
    "print(cur.read('topics'))"
   ]
  },
  {
   "cell_type": "code",
   "execution_count": 23,
   "metadata": {},
   "outputs": [],
   "source": [
    "# и заменим маленькую конверсию на нулевую, а названия тем с маленькой конверсией на zero"
   ]
  },
  {
   "cell_type": "code",
   "execution_count": 24,
   "metadata": {},
   "outputs": [
    {
     "name": "stdout",
     "output_type": "stream",
     "text": [
      "UPDATE topics SET topic_name = 'zero', conversion = 0 WHERE conversion < 0.011\n",
      "Команда выполнена успешно\n"
     ]
    }
   ],
   "source": [
    "cur.update('topics', ['topic_name', 'conversion'], ['zero', 0], \"conversion < 0.011\")"
   ]
  },
  {
   "cell_type": "code",
   "execution_count": 25,
   "metadata": {},
   "outputs": [
    {
     "name": "stdout",
     "output_type": "stream",
     "text": [
      "SELECT * FROM topics\n",
      "Команда выполнена успешно\n",
      "[{'id_topics': 1, 'topic_name': 'zero', 'conversion': Decimal('0.000')}, {'id_topics': 2, 'topic_name': 'travel', 'conversion': Decimal('0.050')}, {'id_topics': 3, 'topic_name': 'zero', 'conversion': Decimal('0.000')}]\n"
     ]
    }
   ],
   "source": [
    "print(cur.read('topics'))"
   ]
  },
  {
   "cell_type": "code",
   "execution_count": 26,
   "metadata": {},
   "outputs": [],
   "source": [
    "# вернём всё как было"
   ]
  },
  {
   "cell_type": "code",
   "execution_count": 27,
   "metadata": {},
   "outputs": [
    {
     "name": "stdout",
     "output_type": "stream",
     "text": [
      "DELETE FROM topics\n",
      "Команда выполнена успешно\n",
      "INSERT INTO topics VALUES (1, 'comedy', 0.01)\n",
      "Команда выполнена успешно\n",
      "INSERT INTO topics VALUES (2, 'travel', 0.05)\n",
      "Команда выполнена успешно\n"
     ]
    }
   ],
   "source": [
    "cur.delete('topics')\n",
    "cur.create('topics', values = [1, 'comedy', 0.01])\n",
    "cur.create('topics', values = [2, 'travel', 0.05])"
   ]
  },
  {
   "cell_type": "code",
   "execution_count": 28,
   "metadata": {},
   "outputs": [],
   "source": [
    "# добавим в остальные таблицы по несколько записей"
   ]
  },
  {
   "cell_type": "code",
   "execution_count": 29,
   "metadata": {},
   "outputs": [],
   "source": [
    "import datetime\n",
    "\n",
    "import pandas as pd"
   ]
  },
  {
   "cell_type": "code",
   "execution_count": 30,
   "metadata": {},
   "outputs": [],
   "source": [
    "videos = pd.read_excel('videos.xlsx')"
   ]
  },
  {
   "cell_type": "code",
   "execution_count": 31,
   "metadata": {},
   "outputs": [],
   "source": [
    "#videos['date'] = videos['date'].apply(lambda x: datetime.datetime.strptime(x, '%Y-%m-%d'))\n",
    "#videos['date'] = videos['date'].apply(lambda x: datetime.datetime.fromtimestamp(x))\n",
    "#videos['date'] = videos['date'].apply(lambda x: datetime.datetime.date(x))\n",
    "videos['date'] = videos['date'].apply(str)\n",
    "videos['adv_a'] = videos['adv_a'].apply(bool)"
   ]
  },
  {
   "cell_type": "code",
   "execution_count": 32,
   "metadata": {},
   "outputs": [
    {
     "data": {
      "text/html": [
       "<div>\n",
       "<style scoped>\n",
       "    .dataframe tbody tr th:only-of-type {\n",
       "        vertical-align: middle;\n",
       "    }\n",
       "\n",
       "    .dataframe tbody tr th {\n",
       "        vertical-align: top;\n",
       "    }\n",
       "\n",
       "    .dataframe thead th {\n",
       "        text-align: right;\n",
       "    }\n",
       "</style>\n",
       "<table border=\"1\" class=\"dataframe\">\n",
       "  <thead>\n",
       "    <tr style=\"text-align: right;\">\n",
       "      <th></th>\n",
       "      <th>id</th>\n",
       "      <th>name</th>\n",
       "      <th>channel</th>\n",
       "      <th>views</th>\n",
       "      <th>date</th>\n",
       "      <th>adv_a</th>\n",
       "      <th>channel_id</th>\n",
       "      <th>blogger_id</th>\n",
       "    </tr>\n",
       "  </thead>\n",
       "  <tbody>\n",
       "    <tr>\n",
       "      <th>0</th>\n",
       "      <td>1</td>\n",
       "      <td>Заветный берег на озере Иткуль</td>\n",
       "      <td>1</td>\n",
       "      <td>1530</td>\n",
       "      <td>2020-10-15 00:00:00</td>\n",
       "      <td>False</td>\n",
       "      <td>1</td>\n",
       "      <td>1</td>\n",
       "    </tr>\n",
       "    <tr>\n",
       "      <th>1</th>\n",
       "      <td>2</td>\n",
       "      <td>Путешествие в прошлое для МексЭтноЭксп</td>\n",
       "      <td>1</td>\n",
       "      <td>7751</td>\n",
       "      <td>2019-05-20 00:00:00</td>\n",
       "      <td>False</td>\n",
       "      <td>1</td>\n",
       "      <td>1</td>\n",
       "    </tr>\n",
       "    <tr>\n",
       "      <th>2</th>\n",
       "      <td>3</td>\n",
       "      <td>Бакшевская масляница 2019</td>\n",
       "      <td>1</td>\n",
       "      <td>12571</td>\n",
       "      <td>2019-03-15 00:00:00</td>\n",
       "      <td>False</td>\n",
       "      <td>1</td>\n",
       "      <td>1</td>\n",
       "    </tr>\n",
       "    <tr>\n",
       "      <th>3</th>\n",
       "      <td>4</td>\n",
       "      <td>Виталий Наливкин ловит наркоманов</td>\n",
       "      <td>2</td>\n",
       "      <td>1284187</td>\n",
       "      <td>2020-12-13 00:00:00</td>\n",
       "      <td>False</td>\n",
       "      <td>2</td>\n",
       "      <td>2</td>\n",
       "    </tr>\n",
       "    <tr>\n",
       "      <th>4</th>\n",
       "      <td>5</td>\n",
       "      <td>Виталий Наливкин рушит бетонные плиты</td>\n",
       "      <td>2</td>\n",
       "      <td>1707191</td>\n",
       "      <td>2020-11-22 00:00:00</td>\n",
       "      <td>True</td>\n",
       "      <td>2</td>\n",
       "      <td>2</td>\n",
       "    </tr>\n",
       "    <tr>\n",
       "      <th>5</th>\n",
       "      <td>6</td>\n",
       "      <td>Виталий Наливкин Масочный режим</td>\n",
       "      <td>2</td>\n",
       "      <td>1442579</td>\n",
       "      <td>2020-11-15 00:00:00</td>\n",
       "      <td>True</td>\n",
       "      <td>2</td>\n",
       "      <td>2</td>\n",
       "    </tr>\n",
       "    <tr>\n",
       "      <th>6</th>\n",
       "      <td>7</td>\n",
       "      <td>Виталий Наливкин спасает Камчатку</td>\n",
       "      <td>2</td>\n",
       "      <td>1101153</td>\n",
       "      <td>2020-10-25 00:00:00</td>\n",
       "      <td>True</td>\n",
       "      <td>2</td>\n",
       "      <td>2</td>\n",
       "    </tr>\n",
       "    <tr>\n",
       "      <th>7</th>\n",
       "      <td>8</td>\n",
       "      <td>Хорн: тихая голландская идиллия</td>\n",
       "      <td>3</td>\n",
       "      <td>152453</td>\n",
       "      <td>2019-08-05 00:00:00</td>\n",
       "      <td>False</td>\n",
       "      <td>3</td>\n",
       "      <td>3</td>\n",
       "    </tr>\n",
       "    <tr>\n",
       "      <th>8</th>\n",
       "      <td>9</td>\n",
       "      <td>ОМОН и москвичи: задержания в центре столицы</td>\n",
       "      <td>3</td>\n",
       "      <td>1270230</td>\n",
       "      <td>2019-08-04 00:00:00</td>\n",
       "      <td>True</td>\n",
       "      <td>3</td>\n",
       "      <td>3</td>\n",
       "    </tr>\n",
       "    <tr>\n",
       "      <th>9</th>\n",
       "      <td>10</td>\n",
       "      <td>За что боролся, на то и напоролся: случай на м...</td>\n",
       "      <td>3</td>\n",
       "      <td>1920210</td>\n",
       "      <td>2019-08-03 00:00:00</td>\n",
       "      <td>False</td>\n",
       "      <td>3</td>\n",
       "      <td>3</td>\n",
       "    </tr>\n",
       "  </tbody>\n",
       "</table>\n",
       "</div>"
      ],
      "text/plain": [
       "   id                                               name  channel    views  \\\n",
       "0   1                     Заветный берег на озере Иткуль        1     1530   \n",
       "1   2             Путешествие в прошлое для МексЭтноЭксп        1     7751   \n",
       "2   3                          Бакшевская масляница 2019        1    12571   \n",
       "3   4                  Виталий Наливкин ловит наркоманов        2  1284187   \n",
       "4   5              Виталий Наливкин рушит бетонные плиты        2  1707191   \n",
       "5   6                    Виталий Наливкин Масочный режим        2  1442579   \n",
       "6   7                  Виталий Наливкин спасает Камчатку        2  1101153   \n",
       "7   8                    Хорн: тихая голландская идиллия        3   152453   \n",
       "8   9       ОМОН и москвичи: задержания в центре столицы        3  1270230   \n",
       "9  10  За что боролся, на то и напоролся: случай на м...        3  1920210   \n",
       "\n",
       "                  date  adv_a  channel_id  blogger_id  \n",
       "0  2020-10-15 00:00:00  False           1           1  \n",
       "1  2019-05-20 00:00:00  False           1           1  \n",
       "2  2019-03-15 00:00:00  False           1           1  \n",
       "3  2020-12-13 00:00:00  False           2           2  \n",
       "4  2020-11-22 00:00:00   True           2           2  \n",
       "5  2020-11-15 00:00:00   True           2           2  \n",
       "6  2020-10-25 00:00:00   True           2           2  \n",
       "7  2019-08-05 00:00:00  False           3           3  \n",
       "8  2019-08-04 00:00:00   True           3           3  \n",
       "9  2019-08-03 00:00:00  False           3           3  "
      ]
     },
     "execution_count": 32,
     "metadata": {},
     "output_type": "execute_result"
    }
   ],
   "source": [
    "videos"
   ]
  },
  {
   "cell_type": "code",
   "execution_count": 33,
   "metadata": {},
   "outputs": [
    {
     "name": "stdout",
     "output_type": "stream",
     "text": [
      "DELETE FROM videos\n",
      "Команда выполнена успешно\n"
     ]
    }
   ],
   "source": [
    "cur.delete('videos')"
   ]
  },
  {
   "cell_type": "code",
   "execution_count": 34,
   "metadata": {},
   "outputs": [
    {
     "name": "stdout",
     "output_type": "stream",
     "text": [
      "INSERT INTO videos VALUES (1, 'Заветный берег на озере Иткуль', 1, 1530, '2020-10-15 00:00:00', False, 1, 1)\n",
      "Команда выполнена успешно\n",
      "INSERT INTO videos VALUES (2, 'Путешествие в прошлое для МексЭтноЭксп', 1, 7751, '2019-05-20 00:00:00', False, 1, 1)\n",
      "Команда выполнена успешно\n",
      "INSERT INTO videos VALUES (3, 'Бакшевская масляница 2019', 1, 12571, '2019-03-15 00:00:00', False, 1, 1)\n",
      "Команда выполнена успешно\n",
      "INSERT INTO videos VALUES (4, 'Виталий Наливкин ловит наркоманов', 2, 1284187, '2020-12-13 00:00:00', False, 2, 2)\n",
      "Команда выполнена успешно\n",
      "INSERT INTO videos VALUES (5, 'Виталий Наливкин рушит бетонные плиты', 2, 1707191, '2020-11-22 00:00:00', True, 2, 2)\n",
      "Команда выполнена успешно\n",
      "INSERT INTO videos VALUES (6, 'Виталий Наливкин Масочный режим', 2, 1442579, '2020-11-15 00:00:00', True, 2, 2)\n",
      "Команда выполнена успешно\n",
      "INSERT INTO videos VALUES (7, 'Виталий Наливкин спасает Камчатку', 2, 1101153, '2020-10-25 00:00:00', True, 2, 2)\n",
      "Команда выполнена успешно\n",
      "INSERT INTO videos VALUES (8, 'Хорн: тихая голландская идиллия', 3, 152453, '2019-08-05 00:00:00', False, 3, 3)\n",
      "Команда выполнена успешно\n",
      "INSERT INTO videos VALUES (9, 'ОМОН и москвичи: задержания в центре столицы', 3, 1270230, '2019-08-04 00:00:00', True, 3, 3)\n",
      "Команда выполнена успешно\n",
      "INSERT INTO videos VALUES (10, 'За что боролся, на то и напоролся: случай на митинге 3 августа', 3, 1920210, '2019-08-03 00:00:00', False, 3, 3)\n",
      "Команда выполнена успешно\n"
     ]
    },
    {
     "data": {
      "text/plain": [
       "0    None\n",
       "1    None\n",
       "2    None\n",
       "3    None\n",
       "4    None\n",
       "5    None\n",
       "6    None\n",
       "7    None\n",
       "8    None\n",
       "9    None\n",
       "dtype: object"
      ]
     },
     "execution_count": 34,
     "metadata": {},
     "output_type": "execute_result"
    }
   ],
   "source": [
    "videos.apply(lambda x: cur.create('videos', values=list(x)), axis=1)"
   ]
  },
  {
   "cell_type": "code",
   "execution_count": 35,
   "metadata": {},
   "outputs": [
    {
     "data": {
      "text/html": [
       "<div>\n",
       "<style scoped>\n",
       "    .dataframe tbody tr th:only-of-type {\n",
       "        vertical-align: middle;\n",
       "    }\n",
       "\n",
       "    .dataframe tbody tr th {\n",
       "        vertical-align: top;\n",
       "    }\n",
       "\n",
       "    .dataframe thead th {\n",
       "        text-align: right;\n",
       "    }\n",
       "</style>\n",
       "<table border=\"1\" class=\"dataframe\">\n",
       "  <thead>\n",
       "    <tr style=\"text-align: right;\">\n",
       "      <th></th>\n",
       "      <th>id_channels</th>\n",
       "      <th>name</th>\n",
       "      <th>subscribers</th>\n",
       "      <th>category</th>\n",
       "      <th>blogger</th>\n",
       "      <th>adv_a</th>\n",
       "      <th>views</th>\n",
       "      <th>pickle</th>\n",
       "    </tr>\n",
       "  </thead>\n",
       "  <tbody>\n",
       "    <tr>\n",
       "      <th>0</th>\n",
       "      <td>1</td>\n",
       "      <td>- Петькино -</td>\n",
       "      <td>187000</td>\n",
       "      <td>2</td>\n",
       "      <td>1</td>\n",
       "      <td>0.000000</td>\n",
       "      <td>293590</td>\n",
       "      <td>petkino</td>\n",
       "    </tr>\n",
       "    <tr>\n",
       "      <th>1</th>\n",
       "      <td>2</td>\n",
       "      <td>BARAKuda</td>\n",
       "      <td>508000</td>\n",
       "      <td>1</td>\n",
       "      <td>2</td>\n",
       "      <td>0.145833</td>\n",
       "      <td>797560</td>\n",
       "      <td>barakuda</td>\n",
       "    </tr>\n",
       "    <tr>\n",
       "      <th>2</th>\n",
       "      <td>3</td>\n",
       "      <td>varlamov</td>\n",
       "      <td>196000000</td>\n",
       "      <td>2</td>\n",
       "      <td>3</td>\n",
       "      <td>0.009524</td>\n",
       "      <td>307720000</td>\n",
       "      <td>varlamov</td>\n",
       "    </tr>\n",
       "  </tbody>\n",
       "</table>\n",
       "</div>"
      ],
      "text/plain": [
       "   id_channels          name  subscribers  category  blogger     adv_a  \\\n",
       "0            1  - Петькино -       187000         2        1  0.000000   \n",
       "1            2      BARAKuda       508000         1        2  0.145833   \n",
       "2            3      varlamov    196000000         2        3  0.009524   \n",
       "\n",
       "       views    pickle  \n",
       "0     293590   petkino  \n",
       "1     797560  barakuda  \n",
       "2  307720000  varlamov  "
      ]
     },
     "execution_count": 35,
     "metadata": {},
     "output_type": "execute_result"
    }
   ],
   "source": [
    "channels = pd.read_excel('channels.xlsx')\n",
    "channels"
   ]
  },
  {
   "cell_type": "code",
   "execution_count": 36,
   "metadata": {},
   "outputs": [
    {
     "name": "stdout",
     "output_type": "stream",
     "text": [
      "DELETE FROM channels\n",
      "Команда выполнена успешно\n"
     ]
    }
   ],
   "source": [
    "cur.delete('channels')"
   ]
  },
  {
   "cell_type": "code",
   "execution_count": 37,
   "metadata": {},
   "outputs": [
    {
     "name": "stdout",
     "output_type": "stream",
     "text": [
      "INSERT INTO channels VALUES (1, '- Петькино -', 187000, 2, 1, 0.0, 293590, 'petkino')\n",
      "Команда выполнена успешно\n",
      "INSERT INTO channels VALUES (2, 'BARAKuda', 508000, 1, 2, 0.145833333333333, 797560, 'barakuda')\n",
      "Команда выполнена успешно\n",
      "INSERT INTO channels VALUES (3, 'varlamov', 196000000, 2, 3, 0.009523809523809525, 307720000, 'varlamov')\n",
      "Команда выполнена успешно\n"
     ]
    },
    {
     "data": {
      "text/plain": [
       "0    None\n",
       "1    None\n",
       "2    None\n",
       "dtype: object"
      ]
     },
     "execution_count": 37,
     "metadata": {},
     "output_type": "execute_result"
    }
   ],
   "source": [
    "channels.apply(lambda x: cur.create('channels', values = list(x)), axis=1)\n"
   ]
  },
  {
   "cell_type": "code",
   "execution_count": 38,
   "metadata": {},
   "outputs": [
    {
     "data": {
      "text/html": [
       "<div>\n",
       "<style scoped>\n",
       "    .dataframe tbody tr th:only-of-type {\n",
       "        vertical-align: middle;\n",
       "    }\n",
       "\n",
       "    .dataframe tbody tr th {\n",
       "        vertical-align: top;\n",
       "    }\n",
       "\n",
       "    .dataframe thead th {\n",
       "        text-align: right;\n",
       "    }\n",
       "</style>\n",
       "<table border=\"1\" class=\"dataframe\">\n",
       "  <thead>\n",
       "    <tr style=\"text-align: right;\">\n",
       "      <th></th>\n",
       "      <th>id</th>\n",
       "      <th>name</th>\n",
       "      <th>av_price</th>\n",
       "      <th>pricelist</th>\n",
       "      <th>phone</th>\n",
       "    </tr>\n",
       "  </thead>\n",
       "  <tbody>\n",
       "    <tr>\n",
       "      <th>0</th>\n",
       "      <td>1</td>\n",
       "      <td>Дмитрий Львович Зильбертруд</td>\n",
       "      <td>12000</td>\n",
       "      <td>petkino</td>\n",
       "      <td>+79036110480</td>\n",
       "    </tr>\n",
       "    <tr>\n",
       "      <th>1</th>\n",
       "      <td>2</td>\n",
       "      <td>Борис Гонтермахер</td>\n",
       "      <td>57000</td>\n",
       "      <td>panorama</td>\n",
       "      <td>+79678934567</td>\n",
       "    </tr>\n",
       "    <tr>\n",
       "      <th>2</th>\n",
       "      <td>3</td>\n",
       "      <td>Илья Варламов</td>\n",
       "      <td>1000000</td>\n",
       "      <td>varlamov</td>\n",
       "      <td>+75498907892</td>\n",
       "    </tr>\n",
       "  </tbody>\n",
       "</table>\n",
       "</div>"
      ],
      "text/plain": [
       "   id                         name  av_price pricelist         phone\n",
       "0   1  Дмитрий Львович Зильбертруд     12000   petkino  +79036110480\n",
       "1   2            Борис Гонтермахер     57000  panorama  +79678934567\n",
       "2   3                Илья Варламов   1000000  varlamov  +75498907892"
      ]
     },
     "execution_count": 38,
     "metadata": {},
     "output_type": "execute_result"
    }
   ],
   "source": [
    "bloggers = pd.read_excel('bloggers.xlsx')\n",
    "bloggers['phone'] = bloggers['phone'].apply(lambda x: '+' + str(int(x)))\n",
    "bloggers"
   ]
  },
  {
   "cell_type": "code",
   "execution_count": 39,
   "metadata": {},
   "outputs": [
    {
     "name": "stdout",
     "output_type": "stream",
     "text": [
      "DELETE FROM bloggers\n",
      "Команда выполнена успешно\n"
     ]
    }
   ],
   "source": [
    "cur.delete('bloggers')"
   ]
  },
  {
   "cell_type": "code",
   "execution_count": 40,
   "metadata": {},
   "outputs": [
    {
     "name": "stdout",
     "output_type": "stream",
     "text": [
      "INSERT INTO bloggers VALUES (1, 'Дмитрий Львович Зильбертруд', 12000, 'petkino', '+79036110480')\n",
      "Команда выполнена успешно\n",
      "INSERT INTO bloggers VALUES (2, 'Борис Гонтермахер', 57000, 'panorama', '+79678934567')\n",
      "Команда выполнена успешно\n",
      "INSERT INTO bloggers VALUES (3, 'Илья Варламов', 1000000, 'varlamov', '+75498907892')\n",
      "Команда выполнена успешно\n"
     ]
    },
    {
     "data": {
      "text/plain": [
       "0    None\n",
       "1    None\n",
       "2    None\n",
       "dtype: object"
      ]
     },
     "execution_count": 40,
     "metadata": {},
     "output_type": "execute_result"
    }
   ],
   "source": [
    "bloggers.apply(lambda x: cur.create('bloggers', values = list(x)), axis=1)"
   ]
  },
  {
   "cell_type": "code",
   "execution_count": 41,
   "metadata": {},
   "outputs": [
    {
     "name": "stdout",
     "output_type": "stream",
     "text": [
      "SELECT * FROM videos\n",
      "Команда выполнена успешно\n",
      "[{'id_videos': 1, 'video_name': 'Заветный берег на озере Иткуль', 'channel_id': 1, 'views': 1530, 'date': datetime.date(2020, 10, 15), 'adv_a': 0, 'channel_id_videos': 1, 'blogger_id_videos': 1}, {'id_videos': 2, 'video_name': 'Путешествие в прошлое для МексЭтноЭксп', 'channel_id': 1, 'views': 7751, 'date': datetime.date(2019, 5, 20), 'adv_a': 0, 'channel_id_videos': 1, 'blogger_id_videos': 1}, {'id_videos': 3, 'video_name': 'Бакшевская масляница 2019', 'channel_id': 1, 'views': 12571, 'date': datetime.date(2019, 3, 15), 'adv_a': 0, 'channel_id_videos': 1, 'blogger_id_videos': 1}, {'id_videos': 4, 'video_name': 'Виталий Наливкин ловит наркоманов', 'channel_id': 2, 'views': 1284187, 'date': datetime.date(2020, 12, 13), 'adv_a': 0, 'channel_id_videos': 2, 'blogger_id_videos': 2}, {'id_videos': 5, 'video_name': 'Виталий Наливкин рушит бетонные плиты', 'channel_id': 2, 'views': 1707191, 'date': datetime.date(2020, 11, 22), 'adv_a': 1, 'channel_id_videos': 2, 'blogger_id_videos': 2}, {'id_videos': 6, 'video_name': 'Виталий Наливкин Масочный режим', 'channel_id': 2, 'views': 1442579, 'date': datetime.date(2020, 11, 15), 'adv_a': 1, 'channel_id_videos': 2, 'blogger_id_videos': 2}, {'id_videos': 7, 'video_name': 'Виталий Наливкин спасает Камчатку', 'channel_id': 2, 'views': 1101153, 'date': datetime.date(2020, 10, 25), 'adv_a': 1, 'channel_id_videos': 2, 'blogger_id_videos': 2}, {'id_videos': 8, 'video_name': 'Хорн: тихая голландская идиллия', 'channel_id': 3, 'views': 152453, 'date': datetime.date(2019, 8, 5), 'adv_a': 0, 'channel_id_videos': 3, 'blogger_id_videos': 3}, {'id_videos': 9, 'video_name': 'ОМОН и москвичи: задержания в центре столицы', 'channel_id': 3, 'views': 1270230, 'date': datetime.date(2019, 8, 4), 'adv_a': 1, 'channel_id_videos': 3, 'blogger_id_videos': 3}, {'id_videos': 10, 'video_name': 'За что боролся, на то и напоролся: случай на митинге 3 августа', 'channel_id': 3, 'views': 1920210, 'date': datetime.date(2019, 8, 3), 'adv_a': 0, 'channel_id_videos': 3, 'blogger_id_videos': 3}]\n",
      "SELECT * FROM channels\n",
      "Команда выполнена успешно\n",
      "[{'id_channels': 1, 'channel_name': '- Петькино -', 'subscribers': 187000, 'topic_id': 2, 'blogger_id_channels': 1, 'adv_a': Decimal('0'), 'views': 293590, 'pickle': 'petkino'}, {'id_channels': 2, 'channel_name': 'BARAKuda', 'subscribers': 508000, 'topic_id': 1, 'blogger_id_channels': 2, 'adv_a': Decimal('0'), 'views': 797560, 'pickle': 'barakuda'}, {'id_channels': 3, 'channel_name': 'varlamov', 'subscribers': 196000000, 'topic_id': 2, 'blogger_id_channels': 3, 'adv_a': Decimal('0'), 'views': 307720000, 'pickle': 'varlamov'}]\n",
      "SELECT * FROM bloggers\n",
      "Команда выполнена успешно\n",
      "[{'id_bloggers': 1, 'blogger_name': 'Дмитрий Львович Зильбертруд', 'av_price': 12000.0, 'pricelist': 'petkino', 'phone_number': '+79036110480'}, {'id_bloggers': 2, 'blogger_name': 'Борис Гонтермахер', 'av_price': 57000.0, 'pricelist': 'panorama', 'phone_number': '+79678934567'}, {'id_bloggers': 3, 'blogger_name': 'Илья Варламов', 'av_price': 1000000.0, 'pricelist': 'varlamov', 'phone_number': '+75498907892'}]\n"
     ]
    }
   ],
   "source": [
    "print(cur.read('videos'))\n",
    "print(cur.read('channels'))\n",
    "print(cur.read('bloggers'))"
   ]
  },
  {
   "cell_type": "markdown",
   "metadata": {},
   "source": [
    "## SELECT с несколькими (от трех) таблицами в условии выборки"
   ]
  },
  {
   "cell_type": "code",
   "execution_count": 42,
   "metadata": {},
   "outputs": [],
   "source": [
    "command = \"\"\"\n",
    "SELECT videos.video_name, channels.channel_name, videos.views, channels.subscribers, bloggers.av_price\n",
    "FROM videos, channels, bloggers\n",
    "WHERE videos.channel_id_videos = channels.id_channels\n",
    "AND videos.blogger_id_videos = bloggers.id_bloggers\n",
    "AND videos.adv_a = True \n",
    "AND channels.topic_id = 1\n",
    ";\n",
    "\"\"\""
   ]
  },
  {
   "cell_type": "code",
   "execution_count": 43,
   "metadata": {},
   "outputs": [
    {
     "name": "stdout",
     "output_type": "stream",
     "text": [
      "\n",
      "SELECT videos.video_name, channels.channel_name, videos.views, channels.subscribers, bloggers.av_price\n",
      "FROM videos, channels, bloggers\n",
      "WHERE videos.channel_id_videos = channels.id_channels\n",
      "AND videos.blogger_id_videos = bloggers.id_bloggers\n",
      "AND videos.adv_a = True \n",
      "AND channels.topic_id = 1\n",
      ";\n",
      "\n",
      "Команда выполнена успешно\n"
     ]
    },
    {
     "data": {
      "text/plain": [
       "[{'video_name': 'Виталий Наливкин рушит бетонные плиты',\n",
       "  'channel_name': 'BARAKuda',\n",
       "  'views': 1707191,\n",
       "  'subscribers': 508000,\n",
       "  'av_price': 57000.0},\n",
       " {'video_name': 'Виталий Наливкин Масочный режим',\n",
       "  'channel_name': 'BARAKuda',\n",
       "  'views': 1442579,\n",
       "  'subscribers': 508000,\n",
       "  'av_price': 57000.0},\n",
       " {'video_name': 'Виталий Наливкин спасает Камчатку',\n",
       "  'channel_name': 'BARAKuda',\n",
       "  'views': 1101153,\n",
       "  'subscribers': 508000,\n",
       "  'av_price': 57000.0}]"
      ]
     },
     "execution_count": 43,
     "metadata": {},
     "output_type": "execute_result"
    }
   ],
   "source": [
    "cur.execute(command)\n",
    "cur.cur.fetchall()"
   ]
  },
  {
   "cell_type": "markdown",
   "metadata": {},
   "source": [
    "## Вложенные SELECT"
   ]
  },
  {
   "cell_type": "code",
   "execution_count": 44,
   "metadata": {},
   "outputs": [],
   "source": [
    "# найдём каналы, которые ведут «дешевые» блогеры"
   ]
  },
  {
   "cell_type": "code",
   "execution_count": 45,
   "metadata": {},
   "outputs": [],
   "source": [
    "command = \"\"\"\n",
    "SELECT channels.channel_name\n",
    "FROM channels\n",
    "WHERE blogger_id_channels IN (SELECT bloggers.id_bloggers \n",
    "                                FROM bloggers\n",
    "                                WHERE bloggers.av_price < 50000)\n",
    ";\n",
    "\"\"\""
   ]
  },
  {
   "cell_type": "code",
   "execution_count": 46,
   "metadata": {},
   "outputs": [
    {
     "name": "stdout",
     "output_type": "stream",
     "text": [
      "\n",
      "SELECT channels.channel_name\n",
      "FROM channels\n",
      "WHERE blogger_id_channels IN (SELECT bloggers.id_bloggers \n",
      "                                FROM bloggers\n",
      "                                WHERE bloggers.av_price < 50000)\n",
      ";\n",
      "\n",
      "Команда выполнена успешно\n"
     ]
    },
    {
     "data": {
      "text/plain": [
       "[{'channel_name': '- Петькино -'}]"
      ]
     },
     "execution_count": 46,
     "metadata": {},
     "output_type": "execute_result"
    }
   ],
   "source": [
    "cur.execute(command)\n",
    "cur.cur.fetchall()"
   ]
  },
  {
   "cell_type": "markdown",
   "metadata": {},
   "source": [
    "## Запросы с JOIN"
   ]
  },
  {
   "cell_type": "code",
   "execution_count": 47,
   "metadata": {},
   "outputs": [],
   "source": [
    "#склеим таблицы «видео» и «каналы» и покажем названия видео с каналов, у которых много подписчиков"
   ]
  },
  {
   "cell_type": "code",
   "execution_count": 48,
   "metadata": {},
   "outputs": [],
   "source": [
    "command = \"\"\"\n",
    "SELECT * \n",
    "FROM videos v JOIN channels ch ON v.channel_id = ch.id_channels\n",
    "WHERE ch.subscribers > 200000\n",
    ";\n",
    "\"\"\""
   ]
  },
  {
   "cell_type": "code",
   "execution_count": 49,
   "metadata": {},
   "outputs": [
    {
     "name": "stdout",
     "output_type": "stream",
     "text": [
      "\n",
      "SELECT * \n",
      "FROM videos v JOIN channels ch ON v.channel_id = ch.id_channels\n",
      "WHERE ch.subscribers > 200000\n",
      ";\n",
      "\n",
      "Команда выполнена успешно\n"
     ]
    },
    {
     "data": {
      "text/plain": [
       "[{'id_videos': 4,\n",
       "  'video_name': 'Виталий Наливкин ловит наркоманов',\n",
       "  'channel_id': 2,\n",
       "  'views': 797560,\n",
       "  'date': datetime.date(2020, 12, 13),\n",
       "  'adv_a': Decimal('0'),\n",
       "  'channel_id_videos': 2,\n",
       "  'blogger_id_videos': 2,\n",
       "  'id_channels': 2,\n",
       "  'channel_name': 'BARAKuda',\n",
       "  'subscribers': 508000,\n",
       "  'topic_id': 1,\n",
       "  'blogger_id_channels': 2,\n",
       "  'pickle': 'barakuda'},\n",
       " {'id_videos': 5,\n",
       "  'video_name': 'Виталий Наливкин рушит бетонные плиты',\n",
       "  'channel_id': 2,\n",
       "  'views': 797560,\n",
       "  'date': datetime.date(2020, 11, 22),\n",
       "  'adv_a': Decimal('0'),\n",
       "  'channel_id_videos': 2,\n",
       "  'blogger_id_videos': 2,\n",
       "  'id_channels': 2,\n",
       "  'channel_name': 'BARAKuda',\n",
       "  'subscribers': 508000,\n",
       "  'topic_id': 1,\n",
       "  'blogger_id_channels': 2,\n",
       "  'pickle': 'barakuda'},\n",
       " {'id_videos': 6,\n",
       "  'video_name': 'Виталий Наливкин Масочный режим',\n",
       "  'channel_id': 2,\n",
       "  'views': 797560,\n",
       "  'date': datetime.date(2020, 11, 15),\n",
       "  'adv_a': Decimal('0'),\n",
       "  'channel_id_videos': 2,\n",
       "  'blogger_id_videos': 2,\n",
       "  'id_channels': 2,\n",
       "  'channel_name': 'BARAKuda',\n",
       "  'subscribers': 508000,\n",
       "  'topic_id': 1,\n",
       "  'blogger_id_channels': 2,\n",
       "  'pickle': 'barakuda'},\n",
       " {'id_videos': 7,\n",
       "  'video_name': 'Виталий Наливкин спасает Камчатку',\n",
       "  'channel_id': 2,\n",
       "  'views': 797560,\n",
       "  'date': datetime.date(2020, 10, 25),\n",
       "  'adv_a': Decimal('0'),\n",
       "  'channel_id_videos': 2,\n",
       "  'blogger_id_videos': 2,\n",
       "  'id_channels': 2,\n",
       "  'channel_name': 'BARAKuda',\n",
       "  'subscribers': 508000,\n",
       "  'topic_id': 1,\n",
       "  'blogger_id_channels': 2,\n",
       "  'pickle': 'barakuda'},\n",
       " {'id_videos': 8,\n",
       "  'video_name': 'Хорн: тихая голландская идиллия',\n",
       "  'channel_id': 3,\n",
       "  'views': 307720000,\n",
       "  'date': datetime.date(2019, 8, 5),\n",
       "  'adv_a': Decimal('0'),\n",
       "  'channel_id_videos': 3,\n",
       "  'blogger_id_videos': 3,\n",
       "  'id_channels': 3,\n",
       "  'channel_name': 'varlamov',\n",
       "  'subscribers': 196000000,\n",
       "  'topic_id': 2,\n",
       "  'blogger_id_channels': 3,\n",
       "  'pickle': 'varlamov'},\n",
       " {'id_videos': 9,\n",
       "  'video_name': 'ОМОН и москвичи: задержания в центре столицы',\n",
       "  'channel_id': 3,\n",
       "  'views': 307720000,\n",
       "  'date': datetime.date(2019, 8, 4),\n",
       "  'adv_a': Decimal('0'),\n",
       "  'channel_id_videos': 3,\n",
       "  'blogger_id_videos': 3,\n",
       "  'id_channels': 3,\n",
       "  'channel_name': 'varlamov',\n",
       "  'subscribers': 196000000,\n",
       "  'topic_id': 2,\n",
       "  'blogger_id_channels': 3,\n",
       "  'pickle': 'varlamov'},\n",
       " {'id_videos': 10,\n",
       "  'video_name': 'За что боролся, на то и напоролся: случай на митинге 3 августа',\n",
       "  'channel_id': 3,\n",
       "  'views': 307720000,\n",
       "  'date': datetime.date(2019, 8, 3),\n",
       "  'adv_a': Decimal('0'),\n",
       "  'channel_id_videos': 3,\n",
       "  'blogger_id_videos': 3,\n",
       "  'id_channels': 3,\n",
       "  'channel_name': 'varlamov',\n",
       "  'subscribers': 196000000,\n",
       "  'topic_id': 2,\n",
       "  'blogger_id_channels': 3,\n",
       "  'pickle': 'varlamov'}]"
      ]
     },
     "execution_count": 49,
     "metadata": {},
     "output_type": "execute_result"
    }
   ],
   "source": [
    "cur.execute(command)\n",
    "cur.cur.fetchall()"
   ]
  },
  {
   "cell_type": "code",
   "execution_count": null,
   "metadata": {},
   "outputs": [],
   "source": []
  }
 ],
 "metadata": {
  "kernelspec": {
   "display_name": "Python 3",
   "language": "python",
   "name": "python3"
  },
  "language_info": {
   "codemirror_mode": {
    "name": "ipython",
    "version": 3
   },
   "file_extension": ".py",
   "mimetype": "text/x-python",
   "name": "python",
   "nbconvert_exporter": "python",
   "pygments_lexer": "ipython3",
   "version": "3.7.6"
  }
 },
 "nbformat": 4,
 "nbformat_minor": 4
}
