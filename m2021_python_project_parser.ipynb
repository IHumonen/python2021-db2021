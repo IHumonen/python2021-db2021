{
 "cells": [
  {
   "cell_type": "markdown",
   "metadata": {},
   "source": [
    "Этот скрипт заходит на ютуб-каналы, переходит по ссылкам на видео, парсит разную нужную информацию, а потом записывает её в файл pickle"
   ]
  },
  {
   "cell_type": "code",
   "execution_count": 1,
   "metadata": {},
   "outputs": [],
   "source": [
    "import json\n",
    "import pickle\n",
    "import requests\n",
    "import time\n",
    "\n",
    "from selenium import webdriver\n",
    "from selenium.webdriver.common.keys import Keys\n",
    "from bs4 import BeautifulSoup"
   ]
  },
  {
   "cell_type": "markdown",
   "metadata": {},
   "source": [
    "Создадим класс «страница»"
   ]
  },
  {
   "cell_type": "code",
   "execution_count": 2,
   "metadata": {},
   "outputs": [],
   "source": [
    "class Page:\n",
    "    def __init__(self, url):\n",
    "        self.url = url\n",
    "        self.html = ''\n",
    "    \n",
    "    @staticmethod   \n",
    "    def scroll_down(driver, max_iter):\n",
    "        pass\n",
    "    \n",
    "    @staticmethod\n",
    "    def button_to_videos(self):\n",
    "        pass\n",
    "    \n",
    "    def get_source(self):\n",
    "        driver = create_driver(headless=False)\n",
    "        driver.get(self.url)\n",
    "    #   driver.refresh()  # помогает если ютуб просит капчу\n",
    "        time.sleep(3.5)\n",
    "        self.button_to_videos(driver)\n",
    "        self.scroll_down(driver, max_iter=3) #вписал 3 три для скорости\n",
    "        html = driver.page_source\n",
    "        driver.close()\n",
    "        self.html = html"
   ]
  },
  {
   "cell_type": "markdown",
   "metadata": {},
   "source": [
    "Дочерний класс «страница канала»"
   ]
  },
  {
   "cell_type": "code",
   "execution_count": 3,
   "metadata": {},
   "outputs": [],
   "source": [
    "class ChannelPage(Page):\n",
    "    \n",
    "    @staticmethod\n",
    "    def button_to_videos(driver):\n",
    "        buttons_selector = '#tabsContent > tp-yt-paper-tab:nth-child(4)'\n",
    "        try:\n",
    "            video_button = driver.find_element_by_css_selector(buttons_selector)\n",
    "            video_button.click()\n",
    "        except:          \n",
    "            video_button = driver.find_element_by_css_selector('#accept-button')\n",
    "            video_button.click()\n",
    "            video_button = driver.find_element_by_css_selector(buttons_selector)\n",
    "            video_button.click()\n",
    "    \n",
    "    @staticmethod\n",
    "    def scroll_down(driver, max_iter=15):\n",
    "        counter = 1\n",
    "        flag = True\n",
    "        while (flag and counter < max_iter):\n",
    "            counter += 1\n",
    "            html = driver.page_source\n",
    "            soup = BeautifulSoup(html, 'html.parser')\n",
    "            dates = soup.find_all(id='metadata-line')\n",
    "            for date in dates:\n",
    "                date=date.text\n",
    "                if '2 года назад' in date or '3 года назад' in date or '4 года назад' in date:\n",
    "                    flag = False\n",
    "                    print(date)\n",
    "                    print('Долистал до старых видео')\n",
    "                    break\n",
    "            html = driver.find_element_by_tag_name('html')\n",
    "            html.send_keys(Keys.END)\n",
    "            time.sleep(2)\n",
    "            dates = []\n",
    "        dates = []\n",
    "        html = ''\n",
    "        \n",
    "    def get_videos(self, name):\n",
    "        videos_for_export = []\n",
    "        soup = BeautifulSoup(self.html, 'html.parser')\n",
    "        videos = soup.find_all(id='video-title')\n",
    "        print(name + '  — ' + str(len(videos)) + ' видео')\n",
    "        for current_url in videos:\n",
    "            try:\n",
    "                current = VideoPage(current_url)\n",
    "                current.get_source()\n",
    "            except Exception as error:\n",
    "                print('Ошибка получения видео:', error)\n",
    "            try:\n",
    "                video = Video(current.html, name)\n",
    "                videos_for_export.append(video)\n",
    "            except Exception as error:\n",
    "                print('Ошибка сохранения видео:', error)\n",
    "            current = ''\n",
    "        return videos_for_export"
   ]
  },
  {
   "cell_type": "markdown",
   "metadata": {},
   "source": [
    "И дочерний класс «страница видео»"
   ]
  },
  {
   "cell_type": "code",
   "execution_count": 4,
   "metadata": {},
   "outputs": [],
   "source": [
    "class VideoPage(Page):   \n",
    "    def __init__(self, url):\n",
    "        url = url['href']\n",
    "        url = 'https://www.youtube.com' + url\n",
    "        return Page.__init__(self, url)"
   ]
  },
  {
   "cell_type": "markdown",
   "metadata": {},
   "source": [
    "Теперь импортируем классы для хранения скачанной информации"
   ]
  },
  {
   "cell_type": "code",
   "execution_count": 5,
   "metadata": {},
   "outputs": [],
   "source": [
    "from classes_for_project import Channel\n",
    "from classes_for_project import Video"
   ]
  },
  {
   "cell_type": "code",
   "execution_count": 6,
   "metadata": {},
   "outputs": [],
   "source": [
    "def create_driver(headless=False):\n",
    "    options = webdriver.ChromeOptions()\n",
    "    options.add_experimental_option('excludeSwitches', ['enable-logging'])\n",
    "    #options.set_headless(headless=headless) #эта строчка прячет|открывает окно, которое открывает selenium4\n",
    "    options.headless=headless #эта строчка как предыдущая, но не появляется варнинг\n",
    "    driver = webdriver.Chrome(options=options)\n",
    "    return driver"
   ]
  },
  {
   "cell_type": "markdown",
   "metadata": {},
   "source": [
    "Пройдёмся по словарю со ссылками на каналы и для каждой ссылки на канал спарсим его"
   ]
  },
  {
   "cell_type": "code",
   "execution_count": 7,
   "metadata": {},
   "outputs": [],
   "source": [
    "links = { 'other' : ['https://www.youtube.com/user/hopehill2000/featured'],\n",
    "    'math' : ['https://www.youtube.com/channel/UCASlwNxf7mHBUEPr1s6fsDg']}"
   ]
  },
  {
   "cell_type": "code",
   "execution_count": 8,
   "metadata": {},
   "outputs": [],
   "source": [
    "clear_log = True"
   ]
  },
  {
   "cell_type": "code",
   "execution_count": 9,
   "metadata": {},
   "outputs": [],
   "source": [
    "if clear_log:\n",
    "    log_name = 'project_log.txt'\n",
    "    with open(log_name, 'w') as f:\n",
    "        f.write('')"
   ]
  },
  {
   "cell_type": "code",
   "execution_count": 10,
   "metadata": {},
   "outputs": [
    {
     "name": "stdout",
     "output_type": "stream",
     "text": [
      "hopehill2000  — 3 видео\n",
      "канал  hopehill2000 скачан\n",
      "канал  hopehill2000 сохранён\n",
      "категория  other сохранена\n",
      "Mathematics at HSE  — 90 видео\n",
      "канал  Mathematics at HSE скачан\n",
      "канал  Mathematics at HSE сохранён\n",
      "категория  math сохранена\n",
      "Wall time: 28min 8s\n"
     ]
    }
   ],
   "source": [
    "%%time\n",
    "for category in links: \n",
    "    for url in links[category]:\n",
    "        f = open(log_name, 'r')\n",
    "        logs = f.read()\n",
    "        logs = logs.split('sep\\n')\n",
    "        f.close()\n",
    "        if url not in logs:      \n",
    "            try:\n",
    "                current_page = ChannelPage(url)\n",
    "                current_page.get_source()\n",
    "                try:\n",
    "                    current_channel = Channel(current_page.html, category, url)\n",
    "                    if current_channel.name not in logs:\n",
    "                        videos = current_page.get_videos(current_channel.name)\n",
    "                        current_channel.videos = videos\n",
    "                        current_channel.pirkovskii_here()\n",
    "                        videos = []\n",
    "                        print('канал ', current_channel.name, 'скачан')\n",
    "                        current_channel.dump()\n",
    "                        f = open(log_name, 'r')\n",
    "                        current_file = f.read()\n",
    "                        f.close()\n",
    "                        f = open(log_name, 'w')\n",
    "                        try:\n",
    "                            f.write(current_file + 'sep\\n' + url + 'sep\\n' + current_channel.name)\n",
    "                        except:\n",
    "                             f.write(current_file + 'sep\\n' + url + 'sep\\n' + 'bad_name')\n",
    "                        f.close()\n",
    "                        print('канал ', current_channel.name, 'сохранён')\n",
    "                    else:\n",
    "                        try:\n",
    "                            f.write(current_file + 'sep\\n' + url + 'sep\\n' + current_channel.name)\n",
    "                        except:\n",
    "                             f.write(current_file + 'sep\\n' + url + 'sep\\n' + 'bad_name')\n",
    "                        f.close()\n",
    "                        print('канал ', current_channel.name, 'уже сохранён')\n",
    "                except Exception as error:\n",
    "                    print('Ошибка:', error)\n",
    "            except Exception as error:\n",
    "                print('Ошибка get_source:', error)\n",
    "        else:\n",
    "            print('канал ', url.split('/')[-1], 'уже сохранён')\n",
    "    try:\n",
    "        print('категория ', category, 'сохранена')\n",
    "    except Exception as error:\n",
    "        print('Ошибка cохранения категории:', error)"
   ]
  }
 ],
 "metadata": {
  "kernelspec": {
   "display_name": "Python 3",
   "language": "python",
   "name": "python3"
  },
  "language_info": {
   "codemirror_mode": {
    "name": "ipython",
    "version": 3
   },
   "file_extension": ".py",
   "mimetype": "text/x-python",
   "name": "python",
   "nbconvert_exporter": "python",
   "pygments_lexer": "ipython3",
   "version": "3.7.6"
  }
 },
 "nbformat": 4,
 "nbformat_minor": 4
}
